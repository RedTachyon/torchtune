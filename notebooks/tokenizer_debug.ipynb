{
 "cells": [
  {
   "metadata": {},
   "cell_type": "code",
   "outputs": [],
   "execution_count": null,
   "source": [
    "import torch\n",
    "\n",
    "from torchtune.dev.grpo import generation\n",
    "from torchtune.models.llama3_2 import llama3_2_3b\n",
    "from torchtune.models.llama3 import llama3_tokenizer\n",
    "from torchtune.modules import local_kv_cache\n",
    "\n",
    "from tqdm.auto import trange\n",
    "\n",
    "import matplotlib.pyplot as plt\n"
   ],
   "id": "7772a46d0e59138f"
  },
  {
   "metadata": {},
   "cell_type": "code",
   "outputs": [],
   "execution_count": null,
   "source": "tokenizer = llama3_tokenizer(path=\"/Users/ariel/checkpoints/base_models/Llama-3.2-3B/original/tokenizer.model\")",
   "id": "7d242f86fa1faf11"
  },
  {
   "metadata": {},
   "cell_type": "code",
   "outputs": [],
   "execution_count": null,
   "source": "tokenizer.encode(\"Hello, world!\")",
   "id": "3775f74b6590f908"
  },
  {
   "metadata": {},
   "cell_type": "code",
   "outputs": [],
   "execution_count": null,
   "source": "tokenizer.decode([127999])",
   "id": "ec60b0ed25f945b7"
  },
  {
   "metadata": {},
   "cell_type": "code",
   "outputs": [],
   "execution_count": null,
   "source": "tokenizer.special_tokens",
   "id": "75342f112039197a"
  },
  {
   "metadata": {},
   "cell_type": "code",
   "outputs": [],
   "execution_count": null,
   "source": "tokenizer.decode([128000], False, False)",
   "id": "8620ce047fecfe48"
  },
  {
   "metadata": {},
   "cell_type": "code",
   "outputs": [],
   "execution_count": null,
   "source": [
    "\n",
    "tokenizer.encode(tokenizer.decode([128015], False, False), False, False)"
   ],
   "id": "b2f25fbcc9d9eb41"
  },
  {
   "metadata": {},
   "cell_type": "code",
   "outputs": [],
   "execution_count": null,
   "source": "set(tokenizer.special_tokens.values())",
   "id": "320802e787e5cfc"
  },
  {
   "metadata": {},
   "cell_type": "code",
   "outputs": [],
   "execution_count": null,
   "source": [
    "\n",
    "from torchtune.models.llama3._tokenizer import CL100K_PATTERN\n",
    "\n",
    "CL100K_PATTERN"
   ],
   "id": "890778b00cf4c546"
  },
  {
   "metadata": {},
   "cell_type": "code",
   "outputs": [],
   "execution_count": null,
   "source": "tokenizer.tt_model.vocab_size",
   "id": "1c871e79c4ba471e"
  }
 ],
 "metadata": {},
 "nbformat": 5,
 "nbformat_minor": 9
}
